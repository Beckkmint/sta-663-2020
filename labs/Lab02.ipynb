{
 "cells": [
  {
   "cell_type": "markdown",
   "metadata": {},
   "source": [
    "**Lab 02**\n",
    "\n",
    "Labs in general are for you to solve short programming challenges in class. In contrast, homework assignments will involve more challenging and lengthy problems.\n",
    "\n",
    "Feel free to ask the TAs for help if there is anything you do not understand. The TAs will go through suggested solutions in the last 15 minutes of the lab - typically by solving them in a live demo. **Your midterm exams will be like this, so it is highly beneficial for you to attend these labs**.\n",
    "\n",
    "The second lab is to gain basic familiarity with handling strings and text. \n",
    "\n",
    "- You can import any Python standard library module you need\n",
    "- Do this lab without using the web to search for solutions"
   ]
  },
  {
   "cell_type": "markdown",
   "metadata": {},
   "source": [
    "**1**. Basic text file handling\n",
    "\n",
    "- Write the following into a text file called `snark.txt` using Python code and a context manager\n",
    "\n",
    "```text\n",
    "Just the place for a Snark! I have said it twice:\n",
    "   That alone should encourage the crew.\n",
    "Just the place for a Snark! I have said it thrice:\n",
    "   What I tell you three times is true.\n",
    "```\n",
    "\n",
    "- Now read in the file and change all occurrences of `Snark` to `Snack` and save to a new file call `snack.txt`\n",
    "- Read and print the contents of `snack.txt`\n",
    "- Using Python, write code to delete both these files\n",
    "\n",
    "Hint: See what the `os` module provides using TAB completion to delete a file."
   ]
  },
  {
   "cell_type": "code",
   "execution_count": 4,
   "metadata": {},
   "outputs": [],
   "source": [
    "snark_file = open(\"snark.txt\", \"a\")\n",
    "snark_str = \"\"\"Just the place for a Snark! I have said it twice:\n",
    "   That alone should encourage the crew.\n",
    "Just the place for a Snark! I have said it thrice:\n",
    "   What I tell you three times is true.\"\"\"\n",
    "\n",
    "snark_file.write(snark_str)\n",
    "snark_file.close()"
   ]
  },
  {
   "cell_type": "code",
   "execution_count": 34,
   "metadata": {},
   "outputs": [],
   "source": [
    "import re\n",
    "snark_file = open(\"snark.txt\", \"r+\")\n",
    "read_str = snark_file.read()\n",
    "matching_idx = [m.start() for m in re.finditer('Snark', read_str)]\n",
    "snack_str = read_str[0: matching_idx[0]] + \"Snack\"\n",
    "for n,idx in enumerate(matching_idx[:-1]):\n",
    "    snack_str += read_str[idx + 5: matching_idx[n + 1]] + \"Snack\"\n",
    "snack_str += read_str[matching_idx[-1] + 5:]\n",
    "snack_file = open(\"snack.txt\", \"a\")\n",
    "snack_file.write(snack_str)\n",
    "snack_file.close()"
   ]
  },
  {
   "cell_type": "code",
   "execution_count": 36,
   "metadata": {},
   "outputs": [
    {
     "name": "stdout",
     "output_type": "stream",
     "text": [
      "Just the place for a Snack! I have said it twice:\n",
      "   That alone should encourage the crew.\n",
      "Just the place for a Snack! I have said it thrice:\n",
      "   What I tell you three times is true.\n"
     ]
    }
   ],
   "source": [
    "snack_file = open(\"snack.txt\", \"r\")\n",
    "snack = snack_file.read()\n",
    "print(snack)"
   ]
  },
  {
   "cell_type": "code",
   "execution_count": 37,
   "metadata": {},
   "outputs": [],
   "source": [
    "import os\n",
    "os.remove(\"snack.txt\")\n",
    "os.remove(\"snark.txt\")"
   ]
  },
  {
   "cell_type": "markdown",
   "metadata": {},
   "source": [
    "**2**. Download the following file `https://molb7621.github.io/workshop/_downloads/sample.fa` using the `get` mthod of the `requests` module, and save the `text` attribute of the resulting object as a string. \n",
    "\n",
    "- Convert to a list of strings by splitting on line breaks\n",
    "- Delete all comment lines that start with `>`\n",
    "- Combine the remaining 4 DNA sequences into a single sequence\n",
    "- Perform reverse complementation by\n",
    "    - replacing A with T, C with G, G with C and T with A\n",
    "    - reversing the order of the sequence\n",
    "- Print the reverse complement sequence"
   ]
  },
  {
   "cell_type": "code",
   "execution_count": 46,
   "metadata": {},
   "outputs": [
    {
     "data": {
      "text/plain": [
       "['ACTGACTAGCTAGCTAACTG',\n",
       " 'GCATCGTAGCTAGCTACGAT',\n",
       " 'CATCGATCGTACGTACGTAG',\n",
       " 'ATCGATCGATCGTACGATCG']"
      ]
     },
     "execution_count": 46,
     "metadata": {},
     "output_type": "execute_result"
    }
   ],
   "source": [
    "import requests\n",
    "r = requests.get('https://molb7621.github.io/workshop/_downloads/sample.fa')\n",
    "str_ = r.text\n",
    "str_list = str_.split() # Convert to a list of strings by splitting on line breaks\n",
    "str_list = [s for s in str_list if s[0] != '>'] # Delete all comment lines that start with >\n",
    "print(str_list)"
   ]
  },
  {
   "cell_type": "code",
   "execution_count": 49,
   "metadata": {},
   "outputs": [
    {
     "data": {
      "text/plain": [
       "'ACTGACTAGCTAGCTAACTGGCATCGTAGCTAGCTACGATCATCGATCGTACGTACGTAGATCGATCGATCGTACGATCG'"
      ]
     },
     "execution_count": 49,
     "metadata": {},
     "output_type": "execute_result"
    }
   ],
   "source": [
    "# Combine the remaining 4 DNA sequences into a single sequence\n",
    "single_str = '' \n",
    "for s in str_list:\n",
    "    single_str += s\n",
    "print(single_str)"
   ]
  },
  {
   "cell_type": "code",
   "execution_count": 55,
   "metadata": {},
   "outputs": [
    {
     "data": {
      "text/plain": [
       "'CGATCGTACGATCGATCGATCTACGTACGTACGATCGATGATCGTAGCTAGCTACGATGCCAGTTAGCTAGCTAGTCAGT'"
      ]
     },
     "execution_count": 55,
     "metadata": {},
     "output_type": "execute_result"
    }
   ],
   "source": [
    "# Perform reverse complementation\n",
    "import string\n",
    "rev_complement = single_str.translate(single_str.maketrans('ACGT', 'TGCA'))[::-1]\n",
    "print(rev_complement)"
   ]
  },
  {
   "cell_type": "markdown",
   "metadata": {},
   "source": [
    "**3**. Starting with the sequence `CGATCGTACGATCGATCGATCTACGTACGTACGATCGATGATCGTAGCTAGCTACGATGCCAGTTAGCTAGCTAGTCAGT`, find the top 3 most common subsequences of length 3. We want to consider all possible subsequences that are generated by a shifting window of size 3.\n",
    "\n",
    "Hint: \n",
    "\n",
    "- Consider using `zip` to generate shifting windows\n",
    "- Use `collections.Counter` or a dictionary to count"
   ]
  },
  {
   "cell_type": "code",
   "execution_count": 87,
   "metadata": {},
   "outputs": [
    {
     "name": "stdout",
     "output_type": "stream",
     "text": [
      "{'CGA': 7, 'GAT': 8, 'ATC': 6, 'TCG': 5, 'CGT': 4, 'GTA': 4, 'TAC': 5, 'ACG': 5, 'TCT': 1, 'CTA': 5, 'ATG': 2, 'TGA': 1, 'TAG': 5, 'AGC': 4, 'GCT': 4, 'TGC': 1, 'GCC': 1, 'CCA': 1, 'CAG': 2, 'AGT': 3, 'GTT': 1, 'TTA': 1, 'GTC': 1, 'TCA': 1}\n",
      "['GAT', 'CGA', 'ATC']\n"
     ]
    }
   ],
   "source": [
    "# find the top 3 most common subsequences of length 3\n",
    "import numpy as np\n",
    "seq = 'CGATCGTACGATCGATCGATCTACGTACGTACGATCGATGATCGTAGCTAGCTACGATGCCAGTTAGCTAGCTAGTCAGT'\n",
    "dict_subseq = dict()\n",
    "for start_idx in range(len(seq) - 2):\n",
    "    cur_window = seq[start_idx: start_idx + 3]\n",
    "    if cur_window in dict_subseq:\n",
    "        dict_subseq[cur_window] += 1\n",
    "    else:\n",
    "        dict_subseq[cur_window] = 1\n",
    "print(dict_subseq)\n",
    "highest_3_idx = np.argsort(np.array(list(dict_subseq.values())))[::-1][:3]\n",
    "common_subseq = [list(dict_subseq.keys())[idx] for idx in highest_3_idx]\n",
    "print(common_subseq)"
   ]
  },
  {
   "cell_type": "markdown",
   "metadata": {},
   "source": [
    "**4**. Use Python regular expressions to find the longest contiguous purine (the letters A and G) subsequences in \n",
    "\n",
    "`CGATCGTACGATCGATCGATCTACGTACAAGGAGGAGAGGTACGATCGATGATCGTAGCTAGCTACGATGCCAGTTAGCTAGCTAGTCAGT`"
   ]
  },
  {
   "cell_type": "code",
   "execution_count": 92,
   "metadata": {},
   "outputs": [
    {
     "name": "stdout",
     "output_type": "stream",
     "text": [
      "AAGGAGGAGAGG\n"
     ]
    }
   ],
   "source": [
    "# find the longest contiguous purine (the letters A and G) subsequences\n",
    "import re\n",
    "string = 'CGATCGTACGATCGATCGATCTACGTACAAGGAGGAGAGGTACGATCGATGATCGTAGCTAGCTACGATGCCAGTTAGCTAGCTAGTCAGT'\n",
    "purine_list = re.findall(r'[AG]+', string)\n",
    "longest_purine = sorted(purine_list, key=len, reverse=True)[0]\n",
    "print(longest_purine)"
   ]
  },
  {
   "cell_type": "code",
   "execution_count": null,
   "metadata": {},
   "outputs": [],
   "source": []
  }
 ],
 "metadata": {
  "kernelspec": {
   "display_name": "Python 3",
   "language": "python",
   "name": "python3"
  },
  "language_info": {
   "codemirror_mode": {
    "name": "ipython",
    "version": 3
   },
   "file_extension": ".py",
   "mimetype": "text/x-python",
   "name": "python",
   "nbconvert_exporter": "python",
   "pygments_lexer": "ipython3",
   "version": "3.7.4"
  }
 },
 "nbformat": 4,
 "nbformat_minor": 2
}
